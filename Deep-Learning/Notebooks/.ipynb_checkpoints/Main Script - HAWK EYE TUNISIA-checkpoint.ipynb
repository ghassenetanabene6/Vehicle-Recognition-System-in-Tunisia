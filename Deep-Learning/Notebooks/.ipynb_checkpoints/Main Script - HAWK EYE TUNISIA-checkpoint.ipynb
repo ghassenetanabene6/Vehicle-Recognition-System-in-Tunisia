{
 "cells": [
  {
   "cell_type": "markdown",
   "metadata": {},
   "source": [
    "# Main Script\n"
   ]
  },
  {
   "cell_type": "markdown",
   "metadata": {},
   "source": [
    "This module is the main script that imports the modules : \n",
    "- Licence Place Detection and Extraction - HAWK EYE TUNISIA\n",
    "- Licence Place Recognition - HAWK EYE TUNISIA\n",
    "\n",
    "Input: \n",
    "        a vehicle image that will be read by the LP_detection module \n",
    "\n",
    "Output : \n",
    "        the same vehicle input image containing the result of the detection and the recognition modules. \n",
    "        \n",
    "An Example of use : \n",
    "After saving the detection module in a object_detection_yolo.py and the recognition module in Hawk_Eye_LP_recognition.py file,\n",
    "we write this module in a main_Hawk_Eye.py file and run it with the cmd through this command line : \n",
    "\n",
    "$python main_Hawk_Eye.py --image=path"
   ]
  },
  {
   "cell_type": "markdown",
   "metadata": {},
   "source": [
    "\n",
    "!!! Note: You should verify every path in this file before using it.\n"
   ]
  },
  {
   "cell_type": "markdown",
   "metadata": {},
   "source": [
    "## Import of necessary libraries"
   ]
  },
  {
   "cell_type": "code",
   "execution_count": 2,
   "metadata": {},
   "outputs": [],
   "source": [
    "import object_detection_yolo as LP_detection\n",
    "import Hawk_Eye_LP_recognition as LP_reco\n",
    "from cv2 import imwrite"
   ]
  },
  {
   "cell_type": "markdown",
   "metadata": {},
   "source": [
    "## 1- Licence plate detection"
   ]
  },
  {
   "cell_type": "code",
   "execution_count": 1,
   "metadata": {},
   "outputs": [],
   "source": [
    "LP_extracted,newImage,top=LP_detection.LP_detection()"
   ]
  },
  {
   "cell_type": "markdown",
   "metadata": {},
   "source": [
    "## 2- Characters recognition"
   ]
  },
  {
   "cell_type": "code",
   "execution_count": 4,
   "metadata": {},
   "outputs": [],
   "source": [
    "final_img=LP_reco.LP_recognition(LP_extracted,newImage,top)"
   ]
  },
  {
   "cell_type": "markdown",
   "metadata": {},
   "source": [
    "## 3- Saving the final result"
   ]
  },
  {
   "cell_type": "code",
   "execution_count": 6,
   "metadata": {},
   "outputs": [],
   "source": [
    "path_to_final_img=\"D:\\\\Hawk_Eye_version_1.0_LP_recog\\\\Hawk_Eye_version_1.0_LP_recog\\\\final_image.jpg\"\n",
    "imwrite(path_to_final_img,final_img)\n",
    "#showing result\n",
    "#cv2.imshow(\"Finally You Win!!\",final_img)\n",
    "#cv2.waitKey(0)\n",
    "print(path_to_final_img)"
   ]
  },
  {
   "cell_type": "markdown",
   "metadata": {},
   "source": [
    "## Written By : Ghassene Tanabene - September 2020\n",
    "#### Intern at Chambi Eagle Technology\n",
    "#### From the National School of Computer Sciences - ENSI"
   ]
  }
 ],
 "metadata": {
  "accelerator": "GPU",
  "colab": {
   "collapsed_sections": [],
   "name": "ai_powered_license_plate_detector.ipynb",
   "provenance": []
  },
  "kernelspec": {
   "display_name": "Python 3",
   "language": "python",
   "name": "python3"
  },
  "language_info": {
   "codemirror_mode": {
    "name": "ipython",
    "version": 3
   },
   "file_extension": ".py",
   "mimetype": "text/x-python",
   "name": "python",
   "nbconvert_exporter": "python",
   "pygments_lexer": "ipython3",
   "version": "3.7.4"
  }
 },
 "nbformat": 4,
 "nbformat_minor": 1
}
