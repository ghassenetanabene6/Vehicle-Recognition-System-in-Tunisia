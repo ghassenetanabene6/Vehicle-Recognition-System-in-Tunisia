{
 "cells": [
  {
   "cell_type": "markdown",
   "metadata": {
    "colab_type": "text",
    "id": "QXhqHfXLUC-9"
   },
   "source": [
    "# Deep Learning Model for Character Recognition"
   ]
  },
  {
   "cell_type": "markdown",
   "metadata": {},
   "source": [
    "This module is used to prepare a deep learning model based on convolution neural networks to recognise the characters in the\n",
    "licence plate."
   ]
  },
  {
   "cell_type": "markdown",
   "metadata": {},
   "source": [
    "!!! Note: You should verify every path in this file before using it."
   ]
  },
  {
   "cell_type": "markdown",
   "metadata": {},
   "source": [
    "## Import of necessary libraries"
   ]
  },
  {
   "cell_type": "code",
   "execution_count": 1,
   "metadata": {},
   "outputs": [
    {
     "name": "stdout",
     "output_type": "stream",
     "text": [
      "2.3.0\n"
     ]
    }
   ],
   "source": [
    "# libraries used for the model building\n",
    "\n",
    "import tensorflow as tf\n",
    "from tensorflow.keras.preprocessing.image import ImageDataGenerator\n",
    "from tensorflow.keras.models import Sequential\n",
    "from tensorflow.keras.layers import Dense, Flatten, MaxPooling2D, Dropout, Conv2D\n",
    "from tensorflow.keras import optimizers\n",
    "import datetime\n",
    "import pickle\n",
    "\n",
    "\n",
    "print(tf.__version__)\n",
    "\n",
    "# libraries used to show the example of use\n",
    "\n",
    "import numpy as np\n",
    "import cv2\n",
    "import matplotlib.pyplot as plt\n",
    "\n"
   ]
  },
  {
   "cell_type": "markdown",
   "metadata": {},
   "source": [
    "# 1- Model training"
   ]
  },
  {
   "cell_type": "code",
   "execution_count": 3,
   "metadata": {
    "colab": {
     "base_uri": "https://localhost:8080/",
     "height": 51
    },
    "colab_type": "code",
    "id": "BhrsmfX9UC_p",
    "outputId": "0bd4c93b-dc04-4ca4-877b-9f084a03b550"
   },
   "outputs": [
    {
     "name": "stdout",
     "output_type": "stream",
     "text": [
      "Found 623 images belonging to 11 classes.\n",
      "Found 66 images belonging to 11 classes.\n"
     ]
    }
   ],
   "source": [
    "train_datagen = ImageDataGenerator(rescale=1./255, width_shift_range=0.1, height_shift_range=0.1)\n",
    "train_generator = train_datagen.flow_from_directory(\n",
    "        'D:/Hawk_Eye_version_1.0_LP_recog/Hawk_Eye_version_1.0_LP_recog/Licence_Plate_Recognition/data/train',  # this is the target directory. It contains the different classes of the characters.\n",
    "        target_size=(28,28),  # all images will be resized to 28x28\n",
    "        batch_size=1,\n",
    "        class_mode='categorical')\n",
    "\n",
    "validation_generator = train_datagen.flow_from_directory(\n",
    "        'D:/Hawk_Eye_version_1.0_LP_recog/Hawk_Eye_version_1.0_LP_recog/Licence_Plate_Recognition/data/val',  # this is the target directory\n",
    "        target_size=(28,28),  # all images will be resized to 28x28        batch_size=1,\n",
    "        class_mode='categorical')"
   ]
  },
  {
   "cell_type": "raw",
   "metadata": {},
   "source": [
    "Folders architecture\n",
    "\n",
    "______ data/train :\n",
    "    _________Class_0:\n",
    "        __________img1.jpg //28*28 pixels\n",
    "        ...\n",
    "        __________imgN.jpg // 28*28 pixels\n",
    "    _________Class_1\n",
    "    ...\n",
    "    _________Class_9\n",
    "    _________Class_TN\n",
    "    \n",
    "______ data/test :\n",
    "    _________Class_0\n",
    "    _________Class_1\n",
    "    ...\n",
    "    _________Class_9\n",
    "    _________Class_TN\n"
   ]
  },
  {
   "cell_type": "code",
   "execution_count": 4,
   "metadata": {
    "colab": {},
    "colab_type": "code",
    "id": "8IjCdBYrp4EK"
   },
   "outputs": [],
   "source": [
    "model = Sequential()\n",
    "model.add(Conv2D(32, (24,24), input_shape=(28, 28, 3), activation='relu', padding='same'))\n",
    "# model.add(Conv2D(32, (20,20), input_shape=(28, 28, 3), activation='relu', padding='same'))\n",
    "# model.add(Conv2D(32, (20,20), input_shape=(28, 28, 3), activation='relu', padding='same'))\n",
    "model.add(MaxPooling2D(pool_size=(2, 2)))\n",
    "model.add(Dropout(0.4))\n",
    "model.add(Flatten())\n",
    "model.add(Dense(128, activation='relu'))\n",
    "model.add(Dense(11, activation='softmax'))\n",
    "\n",
    "model.compile(loss='categorical_crossentropy', optimizer=optimizers.Adam(lr=0.00001), metrics=['accuracy'])"
   ]
  },
  {
   "cell_type": "code",
   "execution_count": 11,
   "metadata": {
    "colab": {},
    "colab_type": "code",
    "id": "w5aaqsHABUwx"
   },
   "outputs": [],
   "source": [
    "class stop_training_callback(tf.keras.callbacks.Callback):\n",
    "  def on_epoch_end(self, epoch, logs={}):\n",
    "    if(logs.get('val_acc') > 0.992):\n",
    "      self.model.stop_training = True"
   ]
  },
  {
   "cell_type": "code",
   "execution_count": 16,
   "metadata": {
    "colab": {
     "base_uri": "https://localhost:8080/",
     "height": 34
    },
    "colab_type": "code",
    "id": "QqoZHrC6DBY3",
    "outputId": "04893bee-16d5-44a3-db5f-221cf155ba82"
   },
   "outputs": [
    {
     "name": "stderr",
     "output_type": "stream",
     "text": [
      "'rm' n'est pas reconnu en tant que commande interne\n",
      "ou externe, un programme ex‚cutable ou un fichier de commandes.\n"
     ]
    }
   ],
   "source": [
    "import datetime\n",
    "!rm -rf logs\n",
    "log_dir=\"D:/Hawk_Eye_version_1.0_LP_recog/Hawk_Eye_version_1.0_LP_recog/Licence_Plate_Recognition/data/logs/fit/\" + datetime.datetime.now().strftime(\"%Y%m%d-%H%M%S\")\n",
    "tensorboard_callback = tf.keras.callbacks.TensorBoard(log_dir=log_dir, histogram_freq=1)"
   ]
  },
  {
   "cell_type": "code",
   "execution_count": 7,
   "metadata": {
    "colab": {
     "base_uri": "https://localhost:8080/",
     "height": 1000
    },
    "colab_type": "code",
    "id": "KPAtDd_Jp4BP",
    "outputId": "fbdd1ad4-32fd-40b7-eb13-61ed1db14e47"
   },
   "outputs": [
    {
     "name": "stdout",
     "output_type": "stream",
     "text": [
      "WARNING:tensorflow:From <ipython-input-7-812cb2c5fe6a>:8: Model.fit_generator (from tensorflow.python.keras.engine.training) is deprecated and will be removed in a future version.\n",
      "Instructions for updating:\n",
      "Please use Model.fit, which supports generators.\n",
      "Epoch 1/80\n",
      "623/623 [==============================] - ETA: 0s - loss: 2.2768 - accuracy: 0.2167WARNING:tensorflow:Your input ran out of data; interrupting training. Make sure that your dataset or generator can generate at least `steps_per_epoch * epochs` batches (in this case, 66 batches). You may need to use the repeat() function when building your dataset.\n",
      "623/623 [==============================] - 23s 37ms/step - loss: 2.2768 - accuracy: 0.2167 - val_loss: 2.0480 - val_accuracy: 0.4697\n",
      "Epoch 2/80\n",
      "623/623 [==============================] - 11s 18ms/step - loss: 1.9442 - accuracy: 0.4045\n",
      "Epoch 3/80\n",
      "623/623 [==============================] - 11s 18ms/step - loss: 1.5197 - accuracy: 0.6100\n",
      "Epoch 4/80\n",
      "623/623 [==============================] - 12s 19ms/step - loss: 1.2314 - accuracy: 0.6774\n",
      "Epoch 5/80\n",
      "623/623 [==============================] - 13s 20ms/step - loss: 1.0135 - accuracy: 0.7223\n",
      "Epoch 6/80\n",
      "623/623 [==============================] - 12s 19ms/step - loss: 0.8400 - accuracy: 0.7881\n",
      "Epoch 7/80\n",
      "623/623 [==============================] - 12s 19ms/step - loss: 0.7091 - accuracy: 0.8042\n",
      "Epoch 8/80\n",
      "623/623 [==============================] - 13s 20ms/step - loss: 0.6837 - accuracy: 0.7978\n",
      "Epoch 9/80\n",
      "623/623 [==============================] - 12s 20ms/step - loss: 0.5945 - accuracy: 0.8315\n",
      "Epoch 10/80\n",
      "623/623 [==============================] - 12s 20ms/step - loss: 0.5566 - accuracy: 0.8379\n",
      "Epoch 11/80\n",
      "623/623 [==============================] - 12s 20ms/step - loss: 0.5348 - accuracy: 0.8636\n",
      "Epoch 12/80\n",
      "623/623 [==============================] - 12s 20ms/step - loss: 0.4757 - accuracy: 0.8636\n",
      "Epoch 13/80\n",
      "623/623 [==============================] - 13s 21ms/step - loss: 0.4329 - accuracy: 0.8828\n",
      "Epoch 14/80\n",
      "623/623 [==============================] - 13s 20ms/step - loss: 0.4117 - accuracy: 0.8941\n",
      "Epoch 15/80\n",
      "623/623 [==============================] - 12s 20ms/step - loss: 0.3795 - accuracy: 0.8909\n",
      "Epoch 16/80\n",
      "623/623 [==============================] - 13s 20ms/step - loss: 0.3343 - accuracy: 0.9181\n",
      "Epoch 17/80\n",
      "623/623 [==============================] - 13s 21ms/step - loss: 0.3410 - accuracy: 0.9021\n",
      "Epoch 18/80\n",
      "623/623 [==============================] - 12s 20ms/step - loss: 0.2723 - accuracy: 0.9230\n",
      "Epoch 19/80\n",
      "623/623 [==============================] - 13s 20ms/step - loss: 0.2745 - accuracy: 0.9181\n",
      "Epoch 20/80\n",
      "623/623 [==============================] - 13s 20ms/step - loss: 0.2441 - accuracy: 0.9374\n",
      "Epoch 21/80\n",
      "623/623 [==============================] - 11s 17ms/step - loss: 0.2313 - accuracy: 0.9422\n",
      "Epoch 22/80\n",
      "623/623 [==============================] - 13s 20ms/step - loss: 0.2650 - accuracy: 0.9230\n",
      "Epoch 23/80\n",
      "623/623 [==============================] - 15s 24ms/step - loss: 0.2068 - accuracy: 0.9470\n",
      "Epoch 24/80\n",
      "623/623 [==============================] - 15s 24ms/step - loss: 0.2239 - accuracy: 0.9518\n",
      "Epoch 25/80\n",
      "623/623 [==============================] - 16s 25ms/step - loss: 0.2049 - accuracy: 0.9502\n",
      "Epoch 26/80\n",
      "623/623 [==============================] - 14s 22ms/step - loss: 0.1837 - accuracy: 0.9486\n",
      "Epoch 27/80\n",
      "623/623 [==============================] - 16s 25ms/step - loss: 0.1789 - accuracy: 0.9663\n",
      "Epoch 28/80\n",
      "623/623 [==============================] - 16s 25ms/step - loss: 0.1791 - accuracy: 0.9551\n",
      "Epoch 29/80\n",
      "623/623 [==============================] - 17s 28ms/step - loss: 0.1747 - accuracy: 0.9470\n",
      "Epoch 30/80\n",
      "623/623 [==============================] - 16s 25ms/step - loss: 0.1287 - accuracy: 0.9759\n",
      "Epoch 31/80\n",
      "623/623 [==============================] - 15s 25ms/step - loss: 0.1438 - accuracy: 0.9615\n",
      "Epoch 32/80\n",
      "623/623 [==============================] - 15s 24ms/step - loss: 0.1451 - accuracy: 0.9567\n",
      "Epoch 33/80\n",
      "623/623 [==============================] - 13s 21ms/step - loss: 0.1239 - accuracy: 0.9727\n",
      "Epoch 34/80\n",
      "623/623 [==============================] - 15s 24ms/step - loss: 0.1129 - accuracy: 0.9727\n",
      "Epoch 35/80\n",
      "623/623 [==============================] - 17s 27ms/step - loss: 0.1242 - accuracy: 0.96791s\n",
      "Epoch 36/80\n",
      "623/623 [==============================] - 14s 23ms/step - loss: 0.1156 - accuracy: 0.9727\n",
      "Epoch 37/80\n",
      "623/623 [==============================] - 14s 23ms/step - loss: 0.1168 - accuracy: 0.96631s - loss: 0.111\n",
      "Epoch 38/80\n",
      "623/623 [==============================] - 15s 24ms/step - loss: 0.0947 - accuracy: 0.9791\n",
      "Epoch 39/80\n",
      "623/623 [==============================] - 15s 25ms/step - loss: 0.0935 - accuracy: 0.9759\n",
      "Epoch 40/80\n",
      "623/623 [==============================] - 17s 28ms/step - loss: 0.0886 - accuracy: 0.9823\n",
      "Epoch 41/80\n",
      "623/623 [==============================] - 16s 26ms/step - loss: 0.0888 - accuracy: 0.9743\n",
      "Epoch 42/80\n",
      "623/623 [==============================] - 17s 27ms/step - loss: 0.0972 - accuracy: 0.97910s - loss: 0.0975 - accuracy: \n",
      "Epoch 43/80\n",
      "623/623 [==============================] - 17s 27ms/step - loss: 0.0957 - accuracy: 0.9807\n",
      "Epoch 44/80\n",
      "623/623 [==============================] - 16s 26ms/step - loss: 0.0965 - accuracy: 0.9759\n",
      "Epoch 45/80\n",
      "623/623 [==============================] - 16s 26ms/step - loss: 0.0918 - accuracy: 0.9695\n",
      "Epoch 46/80\n",
      "623/623 [==============================] - 16s 26ms/step - loss: 0.0913 - accuracy: 0.9759\n",
      "Epoch 47/80\n",
      "623/623 [==============================] - 16s 26ms/step - loss: 0.0790 - accuracy: 0.9823\n",
      "Epoch 48/80\n",
      "623/623 [==============================] - 16s 25ms/step - loss: 0.0818 - accuracy: 0.9775\n",
      "Epoch 49/80\n",
      "623/623 [==============================] - 15s 25ms/step - loss: 0.0611 - accuracy: 0.9856\n",
      "Epoch 50/80\n",
      "623/623 [==============================] - 15s 24ms/step - loss: 0.0691 - accuracy: 0.9759\n",
      "Epoch 51/80\n",
      "623/623 [==============================] - 16s 25ms/step - loss: 0.0613 - accuracy: 0.9888\n",
      "Epoch 52/80\n",
      "623/623 [==============================] - 13s 21ms/step - loss: 0.0572 - accuracy: 0.9888\n",
      "Epoch 53/80\n",
      "623/623 [==============================] - 13s 22ms/step - loss: 0.0647 - accuracy: 0.98561s\n",
      "Epoch 54/80\n",
      "623/623 [==============================] - 14s 22ms/step - loss: 0.0769 - accuracy: 0.9872\n",
      "Epoch 55/80\n",
      "623/623 [==============================] - 14s 23ms/step - loss: 0.0541 - accuracy: 0.9839\n",
      "Epoch 56/80\n",
      "623/623 [==============================] - 14s 23ms/step - loss: 0.0493 - accuracy: 0.9888\n",
      "Epoch 57/80\n",
      "623/623 [==============================] - 15s 24ms/step - loss: 0.0467 - accuracy: 0.9872\n",
      "Epoch 58/80\n",
      "623/623 [==============================] - 14s 23ms/step - loss: 0.0407 - accuracy: 0.9936\n",
      "Epoch 59/80\n",
      "623/623 [==============================] - 16s 26ms/step - loss: 0.0406 - accuracy: 0.9920\n",
      "Epoch 60/80\n",
      "623/623 [==============================] - 16s 26ms/step - loss: 0.0396 - accuracy: 0.9904\n",
      "Epoch 61/80\n",
      "623/623 [==============================] - 14s 22ms/step - loss: 0.0404 - accuracy: 0.9872\n",
      "Epoch 62/80\n",
      "623/623 [==============================] - 14s 23ms/step - loss: 0.0645 - accuracy: 0.9856\n",
      "Epoch 63/80\n",
      "623/623 [==============================] - 13s 22ms/step - loss: 0.0430 - accuracy: 0.9904\n",
      "Epoch 64/80\n",
      "623/623 [==============================] - 12s 20ms/step - loss: 0.0482 - accuracy: 0.99200s -\n",
      "Epoch 65/80\n",
      "623/623 [==============================] - 13s 21ms/step - loss: 0.0536 - accuracy: 0.9839\n",
      "Epoch 66/80\n",
      "623/623 [==============================] - 13s 21ms/step - loss: 0.0376 - accuracy: 0.9904\n",
      "Epoch 67/80\n",
      "623/623 [==============================] - 13s 20ms/step - loss: 0.0426 - accuracy: 0.9920\n",
      "Epoch 68/80\n",
      "623/623 [==============================] - 13s 21ms/step - loss: 0.0317 - accuracy: 0.9888\n",
      "Epoch 69/80\n",
      "623/623 [==============================] - 14s 22ms/step - loss: 0.0278 - accuracy: 0.9968\n",
      "Epoch 70/80\n",
      "623/623 [==============================] - 15s 24ms/step - loss: 0.0298 - accuracy: 0.9936\n",
      "Epoch 71/80\n",
      "623/623 [==============================] - 15s 23ms/step - loss: 0.0498 - accuracy: 0.9856\n",
      "Epoch 72/80\n",
      "623/623 [==============================] - 14s 23ms/step - loss: 0.0290 - accuracy: 0.9936\n",
      "Epoch 73/80\n"
     ]
    },
    {
     "name": "stdout",
     "output_type": "stream",
     "text": [
      "623/623 [==============================] - 12s 20ms/step - loss: 0.0298 - accuracy: 0.99200s - l\n",
      "Epoch 74/80\n",
      "623/623 [==============================] - 13s 20ms/step - loss: 0.0285 - accuracy: 0.9952\n",
      "Epoch 75/80\n",
      "623/623 [==============================] - 13s 20ms/step - loss: 0.0265 - accuracy: 0.9968\n",
      "Epoch 76/80\n",
      "623/623 [==============================] - 13s 21ms/step - loss: 0.0319 - accuracy: 0.9936\n",
      "Epoch 77/80\n",
      "623/623 [==============================] - 12s 20ms/step - loss: 0.0253 - accuracy: 0.9936\n",
      "Epoch 78/80\n",
      "623/623 [==============================] - 13s 22ms/step - loss: 0.0282 - accuracy: 0.9920\n",
      "Epoch 79/80\n",
      "623/623 [==============================] - 13s 22ms/step - loss: 0.0383 - accuracy: 0.9888\n",
      "Epoch 80/80\n",
      "623/623 [==============================] - 13s 21ms/step - loss: 0.0266 - accuracy: 0.9920\n"
     ]
    },
    {
     "data": {
      "text/plain": [
       "<tensorflow.python.keras.callbacks.History at 0x1b8da7ec648>"
      ]
     },
     "execution_count": 7,
     "metadata": {},
     "output_type": "execute_result"
    }
   ],
   "source": [
    "batch_size = 1\n",
    "#callbacks = [tensorboard_callback, stop_training_callback()]\n",
    "model.fit_generator(\n",
    "      train_generator,\n",
    "      steps_per_epoch = train_generator.samples // batch_size,\n",
    "      validation_data = validation_generator, \n",
    "      validation_steps = validation_generator.samples // batch_size,\n",
    "      epochs = 80)"
   ]
  },
  {
   "cell_type": "code",
   "execution_count": 17,
   "metadata": {
    "colab": {},
    "colab_type": "code",
    "id": "qFevjr5YcSDU"
   },
   "outputs": [
    {
     "name": "stdout",
     "output_type": "stream",
     "text": [
      "The tensorboard extension is already loaded. To reload it, use:\n",
      "  %reload_ext tensorboard\n"
     ]
    },
    {
     "data": {
      "text/plain": [
       "Reusing TensorBoard on port 6006 (pid 13180), started 0:00:02 ago. (Use '!kill 13180' to kill it.)"
      ]
     },
     "metadata": {},
     "output_type": "display_data"
    },
    {
     "data": {
      "text/html": [
       "\n",
       "      <iframe id=\"tensorboard-frame-856ef57f78f1a2a4\" width=\"100%\" height=\"800\" frameborder=\"0\">\n",
       "      </iframe>\n",
       "      <script>\n",
       "        (function() {\n",
       "          const frame = document.getElementById(\"tensorboard-frame-856ef57f78f1a2a4\");\n",
       "          const url = new URL(\"/\", window.location);\n",
       "          const port = 6006;\n",
       "          if (port) {\n",
       "            url.port = port;\n",
       "          }\n",
       "          frame.src = url;\n",
       "        })();\n",
       "      </script>\n",
       "    "
      ],
      "text/plain": [
       "<IPython.core.display.HTML object>"
      ]
     },
     "metadata": {},
     "output_type": "display_data"
    }
   ],
   "source": [
    "# !kill 8400\n",
    "%load_ext tensorboard\n",
    "%tensorboard --logdir D:/Hawk_Eye_version_1.0_LP_recog/Hawk_Eye_version_1.0_LP_recog/Licence_Plate_Recognition/data/logs/fit"
   ]
  },
  {
   "cell_type": "code",
   "execution_count": 9,
   "metadata": {},
   "outputs": [
    {
     "ename": "ValueError",
     "evalue": "`y` argument is not supported when using `keras.utils.Sequence` as input.",
     "output_type": "error",
     "traceback": [
      "\u001b[1;31m---------------------------------------------------------------------------\u001b[0m",
      "\u001b[1;31mValueError\u001b[0m                                Traceback (most recent call last)",
      "\u001b[1;32m<ipython-input-9-6b74013372aa>\u001b[0m in \u001b[0;36m<module>\u001b[1;34m\u001b[0m\n\u001b[0;32m      1\u001b[0m \u001b[1;31m#_, accuracy = model.evaluate\u001b[0m\u001b[1;33m\u001b[0m\u001b[1;33m\u001b[0m\u001b[1;33m\u001b[0m\u001b[0m\n\u001b[1;32m----> 2\u001b[1;33m \u001b[0mtest_loss\u001b[0m\u001b[1;33m,\u001b[0m \u001b[0mtest_acc\u001b[0m \u001b[1;33m=\u001b[0m \u001b[0mmodel\u001b[0m\u001b[1;33m.\u001b[0m\u001b[0mevaluate\u001b[0m\u001b[1;33m(\u001b[0m\u001b[0mtrain_generator\u001b[0m\u001b[1;33m,\u001b[0m \u001b[0mvalidation_generator\u001b[0m\u001b[1;33m,\u001b[0m \u001b[0mverbose\u001b[0m\u001b[1;33m=\u001b[0m\u001b[1;36m2\u001b[0m\u001b[1;33m)\u001b[0m\u001b[1;33m\u001b[0m\u001b[1;33m\u001b[0m\u001b[0m\n\u001b[0m\u001b[0;32m      3\u001b[0m \u001b[1;33m\u001b[0m\u001b[0m\n\u001b[0;32m      4\u001b[0m \u001b[0mprint\u001b[0m\u001b[1;33m(\u001b[0m\u001b[1;34m'\\nTest accuracy:'\u001b[0m\u001b[1;33m,\u001b[0m \u001b[0mtest_acc\u001b[0m\u001b[1;33m)\u001b[0m\u001b[1;33m\u001b[0m\u001b[1;33m\u001b[0m\u001b[0m\n",
      "\u001b[1;32mD:\\LOGICIELS\\pythonn\\WPy64-3740\\python-3.7.4.amd64\\lib\\site-packages\\tensorflow\\python\\keras\\engine\\training.py\u001b[0m in \u001b[0;36m_method_wrapper\u001b[1;34m(self, *args, **kwargs)\u001b[0m\n\u001b[0;32m    106\u001b[0m   \u001b[1;32mdef\u001b[0m \u001b[0m_method_wrapper\u001b[0m\u001b[1;33m(\u001b[0m\u001b[0mself\u001b[0m\u001b[1;33m,\u001b[0m \u001b[1;33m*\u001b[0m\u001b[0margs\u001b[0m\u001b[1;33m,\u001b[0m \u001b[1;33m**\u001b[0m\u001b[0mkwargs\u001b[0m\u001b[1;33m)\u001b[0m\u001b[1;33m:\u001b[0m\u001b[1;33m\u001b[0m\u001b[1;33m\u001b[0m\u001b[0m\n\u001b[0;32m    107\u001b[0m     \u001b[1;32mif\u001b[0m \u001b[1;32mnot\u001b[0m \u001b[0mself\u001b[0m\u001b[1;33m.\u001b[0m\u001b[0m_in_multi_worker_mode\u001b[0m\u001b[1;33m(\u001b[0m\u001b[1;33m)\u001b[0m\u001b[1;33m:\u001b[0m  \u001b[1;31m# pylint: disable=protected-access\u001b[0m\u001b[1;33m\u001b[0m\u001b[1;33m\u001b[0m\u001b[0m\n\u001b[1;32m--> 108\u001b[1;33m       \u001b[1;32mreturn\u001b[0m \u001b[0mmethod\u001b[0m\u001b[1;33m(\u001b[0m\u001b[0mself\u001b[0m\u001b[1;33m,\u001b[0m \u001b[1;33m*\u001b[0m\u001b[0margs\u001b[0m\u001b[1;33m,\u001b[0m \u001b[1;33m**\u001b[0m\u001b[0mkwargs\u001b[0m\u001b[1;33m)\u001b[0m\u001b[1;33m\u001b[0m\u001b[1;33m\u001b[0m\u001b[0m\n\u001b[0m\u001b[0;32m    109\u001b[0m \u001b[1;33m\u001b[0m\u001b[0m\n\u001b[0;32m    110\u001b[0m     \u001b[1;31m# Running inside `run_distribute_coordinator` already.\u001b[0m\u001b[1;33m\u001b[0m\u001b[1;33m\u001b[0m\u001b[1;33m\u001b[0m\u001b[0m\n",
      "\u001b[1;32mD:\\LOGICIELS\\pythonn\\WPy64-3740\\python-3.7.4.amd64\\lib\\site-packages\\tensorflow\\python\\keras\\engine\\training.py\u001b[0m in \u001b[0;36mevaluate\u001b[1;34m(self, x, y, batch_size, verbose, sample_weight, steps, callbacks, max_queue_size, workers, use_multiprocessing, return_dict)\u001b[0m\n\u001b[0;32m   1354\u001b[0m             \u001b[0muse_multiprocessing\u001b[0m\u001b[1;33m=\u001b[0m\u001b[0muse_multiprocessing\u001b[0m\u001b[1;33m,\u001b[0m\u001b[1;33m\u001b[0m\u001b[1;33m\u001b[0m\u001b[0m\n\u001b[0;32m   1355\u001b[0m             \u001b[0mmodel\u001b[0m\u001b[1;33m=\u001b[0m\u001b[0mself\u001b[0m\u001b[1;33m,\u001b[0m\u001b[1;33m\u001b[0m\u001b[1;33m\u001b[0m\u001b[0m\n\u001b[1;32m-> 1356\u001b[1;33m             steps_per_execution=self._steps_per_execution)\n\u001b[0m\u001b[0;32m   1357\u001b[0m \u001b[1;33m\u001b[0m\u001b[0m\n\u001b[0;32m   1358\u001b[0m       \u001b[1;31m# Container that configures and calls `tf.keras.Callback`s.\u001b[0m\u001b[1;33m\u001b[0m\u001b[1;33m\u001b[0m\u001b[1;33m\u001b[0m\u001b[0m\n",
      "\u001b[1;32mD:\\LOGICIELS\\pythonn\\WPy64-3740\\python-3.7.4.amd64\\lib\\site-packages\\tensorflow\\python\\keras\\engine\\data_adapter.py\u001b[0m in \u001b[0;36m__init__\u001b[1;34m(self, x, y, sample_weight, batch_size, steps_per_epoch, initial_epoch, epochs, shuffle, class_weight, max_queue_size, workers, use_multiprocessing, model, steps_per_execution)\u001b[0m\n\u001b[0;32m   1115\u001b[0m         \u001b[0muse_multiprocessing\u001b[0m\u001b[1;33m=\u001b[0m\u001b[0muse_multiprocessing\u001b[0m\u001b[1;33m,\u001b[0m\u001b[1;33m\u001b[0m\u001b[1;33m\u001b[0m\u001b[0m\n\u001b[0;32m   1116\u001b[0m         \u001b[0mdistribution_strategy\u001b[0m\u001b[1;33m=\u001b[0m\u001b[0mds_context\u001b[0m\u001b[1;33m.\u001b[0m\u001b[0mget_strategy\u001b[0m\u001b[1;33m(\u001b[0m\u001b[1;33m)\u001b[0m\u001b[1;33m,\u001b[0m\u001b[1;33m\u001b[0m\u001b[1;33m\u001b[0m\u001b[0m\n\u001b[1;32m-> 1117\u001b[1;33m         model=model)\n\u001b[0m\u001b[0;32m   1118\u001b[0m \u001b[1;33m\u001b[0m\u001b[0m\n\u001b[0;32m   1119\u001b[0m     \u001b[0mstrategy\u001b[0m \u001b[1;33m=\u001b[0m \u001b[0mds_context\u001b[0m\u001b[1;33m.\u001b[0m\u001b[0mget_strategy\u001b[0m\u001b[1;33m(\u001b[0m\u001b[1;33m)\u001b[0m\u001b[1;33m\u001b[0m\u001b[1;33m\u001b[0m\u001b[0m\n",
      "\u001b[1;32mD:\\LOGICIELS\\pythonn\\WPy64-3740\\python-3.7.4.amd64\\lib\\site-packages\\tensorflow\\python\\keras\\engine\\data_adapter.py\u001b[0m in \u001b[0;36m__init__\u001b[1;34m(self, x, y, sample_weights, shuffle, workers, use_multiprocessing, max_queue_size, model, **kwargs)\u001b[0m\n\u001b[0;32m    897\u001b[0m                **kwargs):\n\u001b[0;32m    898\u001b[0m     \u001b[1;32mif\u001b[0m \u001b[1;32mnot\u001b[0m \u001b[0mis_none_or_empty\u001b[0m\u001b[1;33m(\u001b[0m\u001b[0my\u001b[0m\u001b[1;33m)\u001b[0m\u001b[1;33m:\u001b[0m\u001b[1;33m\u001b[0m\u001b[1;33m\u001b[0m\u001b[0m\n\u001b[1;32m--> 899\u001b[1;33m       raise ValueError(\"`y` argument is not supported when using \"\n\u001b[0m\u001b[0;32m    900\u001b[0m                        \"`keras.utils.Sequence` as input.\")\n\u001b[0;32m    901\u001b[0m     \u001b[1;32mif\u001b[0m \u001b[1;32mnot\u001b[0m \u001b[0mis_none_or_empty\u001b[0m\u001b[1;33m(\u001b[0m\u001b[0msample_weights\u001b[0m\u001b[1;33m)\u001b[0m\u001b[1;33m:\u001b[0m\u001b[1;33m\u001b[0m\u001b[1;33m\u001b[0m\u001b[0m\n",
      "\u001b[1;31mValueError\u001b[0m: `y` argument is not supported when using `keras.utils.Sequence` as input."
     ]
    }
   ],
   "source": [
    "#_, accuracy = model.evaluate\n",
    "test_loss, test_acc = model.evaluate(train_generator, validation_generator, verbose=2)\n",
    "\n",
    "print('\\nTest accuracy:', test_acc)"
   ]
  },
  {
   "cell_type": "markdown",
   "metadata": {},
   "source": [
    "## Model Saving"
   ]
  },
  {
   "cell_type": "code",
   "execution_count": 46,
   "metadata": {},
   "outputs": [
    {
     "name": "stdout",
     "output_type": "stream",
     "text": [
      "Saved model to disk\n"
     ]
    }
   ],
   "source": [
    "# # save model and architecture to single file\n",
    "model.save(\"Recognition_Model.h5\")\n",
    "print(\"Saved model to disk\")"
   ]
  },
  {
   "cell_type": "markdown",
   "metadata": {},
   "source": [
    "## Load of the saved model"
   ]
  },
  {
   "cell_type": "code",
   "execution_count": 5,
   "metadata": {},
   "outputs": [],
   "source": [
    "model = tf.keras.models.load_model('ocrmodel.h5')"
   ]
  },
  {
   "cell_type": "code",
   "execution_count": 6,
   "metadata": {},
   "outputs": [
    {
     "name": "stdout",
     "output_type": "stream",
     "text": [
      "Model: \"sequential_1\"\n",
      "_________________________________________________________________\n",
      "Layer (type)                 Output Shape              Param #   \n",
      "=================================================================\n",
      "conv2d_1 (Conv2D)            (None, 28, 28, 32)        55328     \n",
      "_________________________________________________________________\n",
      "max_pooling2d_1 (MaxPooling2 (None, 14, 14, 32)        0         \n",
      "_________________________________________________________________\n",
      "dropout_1 (Dropout)          (None, 14, 14, 32)        0         \n",
      "_________________________________________________________________\n",
      "flatten_1 (Flatten)          (None, 6272)              0         \n",
      "_________________________________________________________________\n",
      "dense_2 (Dense)              (None, 128)               802944    \n",
      "_________________________________________________________________\n",
      "dense_3 (Dense)              (None, 11)                1419      \n",
      "=================================================================\n",
      "Total params: 859,691\n",
      "Trainable params: 859,691\n",
      "Non-trainable params: 0\n",
      "_________________________________________________________________\n"
     ]
    }
   ],
   "source": [
    "model.summary()"
   ]
  },
  {
   "cell_type": "markdown",
   "metadata": {},
   "source": [
    "# 2- An Example of Licence Plate Recognition"
   ]
  },
  {
   "cell_type": "markdown",
   "metadata": {},
   "source": [
    "We redefine here the segmentation funtion defined in the \"Data Preprocessing & Cleaning\" module to show the example of use.\n",
    "Because the prediction input must be a list of LP characters cropped, and each one will be recognised by the deep learning model. "
   ]
  },
  {
   "cell_type": "code",
   "execution_count": 17,
   "metadata": {},
   "outputs": [],
   "source": [
    "def histogram_of_pixel_projection(img):\n",
    "    \"\"\"\n",
    "    \n",
    "    This method is responsible for licence plate segmentation with histogram of pixel projection approach\n",
    "    \n",
    "    :param: input image\n",
    "    \n",
    "    :return: list of image, each one contain a digit or the word \"تونس\"\n",
    "    \n",
    "    \"\"\"\n",
    "    # list that will contains all digits\n",
    "    caracrter_list_image = list()\n",
    "\n",
    "    # img = crop(img)\n",
    "\n",
    "    # Add black border to the image\n",
    "    BLACK = [0, 0, 0]\n",
    "    img = cv2.copyMakeBorder(img, 3, 3, 3, 3, cv2.BORDER_CONSTANT, value=BLACK)\n",
    "\n",
    "    # change to gray\n",
    "    gray = cv2.cvtColor(img, cv2.COLOR_BGR2GRAY)\n",
    "\n",
    "    # Change to numpy array format\n",
    "    nb = np.array(gray)\n",
    "\n",
    "    # Binarization\n",
    "    nb[nb > 120] = 255\n",
    "    nb[nb < 120] = 0\n",
    "\n",
    "    # compute the sommation\n",
    "    x_sum = cv2.reduce(nb, 0, cv2.REDUCE_SUM, dtype=cv2.CV_32S)\n",
    "    y_sum = cv2.reduce(nb, 1, cv2.REDUCE_SUM, dtype=cv2.CV_32S)\n",
    "\n",
    "    # rotate the vector x_sum\n",
    "    x_sum = x_sum.transpose()\n",
    "\n",
    "    # get height and weight\n",
    "    x = gray.shape[1]\n",
    "    y = gray.shape[0]\n",
    "\n",
    "    # division the result by height and weight\n",
    "    x_sum = x_sum / y\n",
    "    y_sum = y_sum / x\n",
    "\n",
    "    # x_arr and y_arr are two vector weight and height to plot histogram projection properly\n",
    "    x_arr = np.arange(x)\n",
    "    y_arr = np.arange(y)\n",
    "\n",
    "    # convert x_sum to numpy array\n",
    "    z = np.array(x_sum)\n",
    "\n",
    "    # convert y_arr to numpy array\n",
    "    w = np.array(y_sum)\n",
    "\n",
    "    # convert to zero small details\n",
    "    z[z < 15] = 0\n",
    "    z[z > 15] = 1\n",
    "\n",
    "    # convert to zero small details and 1 for needed details\n",
    "    w[w < 20] = 0\n",
    "    w[w > 20] = 1\n",
    "\n",
    "    # vertical segmentation\n",
    "    test = z.transpose() * nb\n",
    "\n",
    "    # horizontal segmentation\n",
    "    test = w * test\n",
    "\n",
    "    # plot histogram projection result using pyplot\n",
    "    horizontal = plt.plot(w, y_arr)\n",
    "    #plt.show()\n",
    "    vertical = plt.plot(x_arr ,z)\n",
    "    #plt.show()\n",
    "    #plt.show(horizontal)\n",
    "    #plt.show(vertical)\n",
    "\n",
    "    f = 0\n",
    "    ff = z[0]\n",
    "    t1 = list()\n",
    "    t2 = list()\n",
    "    for i in range(z.size):\n",
    "        if z[i] != ff:\n",
    "            f += 1\n",
    "            ff = z[i]\n",
    "            t1.append(i)\n",
    "    rect_h = np.array(t1)\n",
    "\n",
    "    f = 0\n",
    "    ff = w[0]\n",
    "    for i in range(w.size):\n",
    "        if w[i] != ff:\n",
    "            f += 1\n",
    "            ff = w[i]\n",
    "            t2.append(i)\n",
    "    rect_v = np.array(t2)\n",
    "\n",
    "    # take the appropriate height\n",
    "    rectv = []\n",
    "    rectv.append(rect_v[0])\n",
    "    rectv.append(rect_v[1])\n",
    "    max = int(rect_v[1]) - int(rect_v[0])\n",
    "    for i in range(len(rect_v) - 1):\n",
    "        diff2 = int(rect_v[i + 1]) - int(rect_v[i])\n",
    "\n",
    "        if diff2 > max:\n",
    "            rectv[0] = rect_v[i]\n",
    "            rectv[1] = rect_v[i + 1]\n",
    "            max = diff2\n",
    "\n",
    "    # extract caracter\n",
    "    for i in range(len(rect_h) - 1):\n",
    "\n",
    "        # eliminate slice that can't be a digit, a digit must have width bigger then 8\n",
    "        diff1 = int(rect_h[i + 1]) - int(rect_h[i])\n",
    "\n",
    "        if (diff1 > 5) and (z[rect_h[i]] == 1):\n",
    "            # cutting nb (image) and adding each slice to the list caracrter_list_image\n",
    "            caracrter_list_image.append(nb[int(rectv[0]):int(rectv[1]), rect_h[i]:rect_h[i + 1]])\n",
    "\n",
    "            # draw rectangle on digits\n",
    "            cv2.rectangle(img, (rect_h[i], rectv[0]), (rect_h[i + 1], rectv[1]), (0, 255, 0), 1)\n",
    "\n",
    "    # Show segmentation result\n",
    "    image = plt.imshow(img)\n",
    "    plt.show()\n",
    "    #plt.show(image)\n",
    "\n",
    "    return caracrter_list_image"
   ]
  },
  {
   "cell_type": "code",
   "execution_count": 19,
   "metadata": {},
   "outputs": [
    {
     "data": {
      "image/png": "[encoded data removed]",
      "text/plain": [
       "<Figure size 432x288 with 1 Axes>"
      ]
     },
     "metadata": {
      "needs_background": "light"
     },
     "output_type": "display_data"
    }
   ],
   "source": [
    "Tunisian_LP =  cv2.imread(\"D:\\\\Hawk_Eye_version_1.0_LP_recog\\\\Hawk_Eye_version_1.0_LP_recog\\\\LP_2.jpg\")\n",
    "char_TN_LP = histogram_of_pixel_projection(Tunisian_LP)"
   ]
  },
  {
   "cell_type": "code",
   "execution_count": 21,
   "metadata": {
    "colab": {
     "base_uri": "https://localhost:8080/",
     "height": 34
    },
    "colab_type": "code",
    "id": "3PICNwtZUDAD",
    "outputId": "483eda61-5d3a-4600-ab47-e1cd1bb6058e"
   },
   "outputs": [
    {
     "name": "stdout",
     "output_type": "stream",
     "text": [
      "WARNING:tensorflow:From <ipython-input-21-cb7ac8567795>:18: Sequential.predict_classes (from tensorflow.python.keras.engine.sequential) is deprecated and will be removed after 2021-01-01.\n",
      "Instructions for updating:\n",
      "Please use instead:* `np.argmax(model.predict(x), axis=-1)`,   if your model does multi-class classification   (e.g. if it uses a `softmax` last-layer activation).* `(model.predict(x) > 0.5).astype(\"int32\")`,   if your model does binary classification   (e.g. if it uses a `sigmoid` last-layer activation).\n",
      "['1', '8', '2', 'Tunisie', '1', '3', '0', '3']\n"
     ]
    }
   ],
   "source": [
    "def fix_dimension(img): \n",
    "  new_img = np.zeros((28,28,3))\n",
    "  for i in range(3):\n",
    "    new_img[:,:,i] = img\n",
    "  return new_img\n",
    "  \n",
    "def show_results(char):\n",
    "    dic = {}\n",
    "    characters = '0123456789T'\n",
    "    for i,c in enumerate(characters):\n",
    "        dic[i]=c\n",
    "\n",
    "    output = []\n",
    "    for i,ch in enumerate(char): #iterating over the characters\n",
    "        img_ = cv2.resize(ch, (28,28))\n",
    "        img = fix_dimension(img_)\n",
    "        img = img.reshape(1,28,28,3) #preparing image for the model\n",
    "        y_ = model.predict_classes(img)[0] #predicting the class\n",
    "        #print(y_)\n",
    "        character = dic[y_] #\n",
    "        if(character==\"T\"):\n",
    "            output.append(\"Tunisie\")\n",
    "        else:\n",
    "            output.append(character) #storing the result in a list\n",
    "        \n",
    "    plate_number = ''.join(output)\n",
    "    \n",
    "    return output\n",
    "\n",
    "print(show_results(char_TN_LP))"
   ]
  },
  {
   "cell_type": "code",
   "execution_count": 23,
   "metadata": {
    "colab": {
     "base_uri": "https://localhost:8080/",
     "height": 373
    },
    "colab_type": "code",
    "id": "urZpH4YFUDAI",
    "outputId": "6688d92e-0c11-48c7-baa3-1c44b36873aa"
   },
   "outputs": [
    {
     "data": {
      "image/png": "[encoded data removed]",
      "text/plain": [
       "<Figure size 720x432 with 8 Axes>"
      ]
     },
     "metadata": {
      "needs_background": "light"
     },
     "output_type": "display_data"
    }
   ],
   "source": [
    "plt.figure(figsize=(10,6))\n",
    "#char=K[1]\n",
    "for i,ch in enumerate(char_TN_LP):\n",
    "    img = cv2.resize(ch, (28,28))\n",
    "    plt.subplot(3,4,i+1)\n",
    "    plt.imshow(img,cmap='gray')\n",
    "    plt.title(f'predicted: {show_results(char_TN_LP)[i]}')\n",
    "    plt.axis('off')\n",
    "    plt.savefig('prediction_result.jpg')\n",
    "plt.show()\n",
    "\n"
   ]
  },
  {
   "cell_type": "markdown",
   "metadata": {},
   "source": [
    "## The result of the recognition"
   ]
  },
  {
   "cell_type": "code",
   "execution_count": 25,
   "metadata": {
    "colab": {},
    "colab_type": "code",
    "id": "uBboEZgAUDAT"
   },
   "outputs": [
    {
     "name": "stdout",
     "output_type": "stream",
     "text": [
      "1 8 2 Tunisie 1 3 0 3 \n"
     ]
    }
   ],
   "source": [
    "Lp=\"\"\n",
    "for i,ch in enumerate(char_TN_LP):\n",
    "     Lp+=show_results(char_TN_LP)[i]+\" \"\n",
    "print(Lp)    "
   ]
  },
  {
   "cell_type": "markdown",
   "metadata": {},
   "source": [
    "## Written By : Ghassene Tanabene - September 2020\n",
    "#### Intern at Chambi Eagle Technology\n",
    "#### From the National School of Computer Sciences - ENSI"
   ]
  }
 ],
 "metadata": {
  "accelerator": "GPU",
  "colab": {
   "collapsed_sections": [],
   "name": "ai_powered_license_plate_detector.ipynb",
   "provenance": []
  },
  "kernelspec": {
   "display_name": "Python 3",
   "language": "python",
   "name": "python3"
  },
  "language_info": {
   "codemirror_mode": {
    "name": "ipython",
    "version": 3
   },
   "file_extension": ".py",
   "mimetype": "text/x-python",
   "name": "python",
   "nbconvert_exporter": "python",
   "pygments_lexer": "ipython3",
   "version": "3.7.4"
  }
 },
 "nbformat": 4,
 "nbformat_minor": 1
}
